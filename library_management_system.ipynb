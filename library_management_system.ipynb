{
 "cells": [
  {
   "cell_type": "code",
   "execution_count": 1,
   "metadata": {},
   "outputs": [],
   "source": [
    "# I,port necessary Libraries\n",
    "import datetime"
   ]
  },
  {
   "cell_type": "code",
   "execution_count": 2,
   "metadata": {},
   "outputs": [],
   "source": [
    "# List of books in the library\n",
    "library_books = []\n",
    "\n",
    "# Dictionary to store borrowed books\n",
    "borrowed_books = {}\n",
    "\n",
    "# List of users\n",
    "users = []"
   ]
  },
  {
   "cell_type": "code",
   "execution_count": 3,
   "metadata": {},
   "outputs": [],
   "source": [
    "# function to add a new book to the library\n",
    "def add_book(book_id, title, author):\n",
    "    book = {\n",
    "        \"book_id\": book_id,\n",
    "        \"title\": title,\n",
    "        \"author\": author,\n",
    "        \"availbe\": True\n",
    "    }\n",
    "    library_books.append(book) # Add the book to the library_book list\n",
    "    print(f\"Book '{title}' by {author} added to the library.\")"
   ]
  },
  {
   "cell_type": "code",
   "execution_count": 4,
   "metadata": {},
   "outputs": [],
   "source": [
    "# Function to search for a book\n",
    "def search_book(title):\n",
    "    # Search for books in the library that match the given title (case-insensitive)\n",
    "    found_books =[\n",
    "        book for book in library_books\n",
    "        if title.lower() in book[\"title\"].lower()\n",
    "    ]\n",
    "\n",
    "    if found_books:\n",
    "        # Iterate through the found books and print their details\n",
    "        for book in found_books:\n",
    "            status = \"Available\" if book[\"Available\"] else \"Borrowed\"\n",
    "            print(\n",
    "                f\"ID: {book['book_id']}, Title: {book['title']}, \"\n",
    "                f\"Author: {book['author']}, status: {status}\"\n",
    "            )\n",
    "    else:\n",
    "        print(\"No books found with that title.\")"
   ]
  },
  {
   "cell_type": "code",
   "execution_count": 5,
   "metadata": {},
   "outputs": [],
   "source": [
    "# Function to Borrow a Book\n",
    "def borrow_book(user, book_id):\n",
    "    # Check if the specified book is available and mark it as borrowed\n",
    "    for book in library_books:\n",
    "        if book[\"book_id\"] == book_id and book[\"available\"]:\n",
    "            book[\"available\"] = False #mark book as unavailable\n",
    "            borrowed_books[book_id] = {\n",
    "                \"user\" : user,\n",
    "                \"borrow_date\": datetime.date.today() # Record the borrow date\n",
    "            }\n",
    "            print(f\"Book '{book['title']}' borrowed by {user}.\")\n",
    "            return\n",
    "    print(\"Book not available or does not exist.\")"
   ]
  },
  {
   "cell_type": "code",
   "execution_count": 6,
   "metadata": {},
   "outputs": [],
   "source": [
    "# Function to Return a Book\n",
    "def return_book(book_id):\n",
    "    for book in library_books:\n",
    "        if book[\"book_id\"] == book_id:\n",
    "            book[\"available\"] = True # Mark the book as available\n",
    "            borrowed_books.pop(book_id) # Remove the book from borrowed_books\n",
    "            print(f\"Book '{book['title']}' returened.\")\n",
    "            return\n",
    "    print(\"Book not found in borrowed books\")"
   ]
  },
  {
   "cell_type": "code",
   "execution_count": 7,
   "metadata": {},
   "outputs": [
    {
     "name": "stdout",
     "output_type": "stream",
     "text": [
      "\n",
      "Library Management System\n",
      "1. Add Book\n",
      "2. Search Book\n",
      "3. Borrow Book\n",
      "4. Return Book\n",
      "5. Exit\n",
      "Book not available or does not exist.\n",
      "\n",
      "Library Management System\n",
      "1. Add Book\n",
      "2. Search Book\n",
      "3. Borrow Book\n",
      "4. Return Book\n",
      "5. Exit\n",
      "Exiting the system. Goodbye!\n"
     ]
    }
   ],
   "source": [
    "def main():\n",
    "    # Start an Infinite loop for the library Management system\n",
    "    while True:\n",
    "        print(\"\\nLibrary Management System\")\n",
    "        print(\"1. Add Book\")\n",
    "        print(\"2. Search Book\")\n",
    "        print(\"3. Borrow Book\")\n",
    "        print(\"4. Return Book\")\n",
    "        print(\"5. Exit\")\n",
    "        choice = input(\"Enter your choice: \")\n",
    "\n",
    "        # Handle user choices for library operations\n",
    "        if choice == '1':\n",
    "            book_id = input(\"Enter book ID: \")\n",
    "            title = input(\"Enter book title: \")\n",
    "            author = input(\"Enter book author: \")\n",
    "            add_book(book_id, title, author) # Call function to add a new book\n",
    "        elif choice == '2':\n",
    "            title = input(\"Enter book title to search: \")\n",
    "            search_book(title) # Call function to search for a book\n",
    "        elif choice == '3':\n",
    "            user = input(\"Enter your name: \")\n",
    "            book_id = input(\"Enter book ID to borrow: \")\n",
    "            borrow_book(user, book_id) # Call function to borrow book\n",
    "        elif choice == '4':\n",
    "            book_id = input(\"Enter book ID to return: \")\n",
    "            return_book(book_id) # Call function to return a borrowed book\n",
    "        elif choice == '5':\n",
    "            print(\"Exiting the system. Goodbye!\") # Exit message\n",
    "            break   # Exit the loop and the program\n",
    "        else:\n",
    "            print(\"Invalid choice. Please try again.\") # Handle invalid input\n",
    "\n",
    "# Start the Library Management System\n",
    "main()"
   ]
  }
 ],
 "metadata": {
  "kernelspec": {
   "display_name": "Python 3",
   "language": "python",
   "name": "python3"
  },
  "language_info": {
   "codemirror_mode": {
    "name": "ipython",
    "version": 3
   },
   "file_extension": ".py",
   "mimetype": "text/x-python",
   "name": "python",
   "nbconvert_exporter": "python",
   "pygments_lexer": "ipython3",
   "version": "3.12.4"
  }
 },
 "nbformat": 4,
 "nbformat_minor": 2
}

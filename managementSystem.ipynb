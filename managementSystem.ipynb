{
 "cells": [
  {
   "cell_type": "code",
   "execution_count": 1,
   "metadata": {},
   "outputs": [],
   "source": [
    "import pandas as pd\n",
    "import csv "
   ]
  },
  {
   "cell_type": "code",
   "execution_count": 2,
   "metadata": {},
   "outputs": [],
   "source": [
    "# collecting customer feedback data using input function\n",
    "\n",
    "customer_name1 = input(\"Enter the first customer's name: \")\n",
    "customer_rating1 = int(input(\"Enter the first customer's rating (1-5): \"))\n",
    "customer_feedback1 = input(\"Enter the first customer's feedback: \")\n",
    "customer_name2 = input(\"Enter the second customer's name: \")\n",
    "customer_rating2 = int(input(\"Enter the second customer's rating (1-5): \"))\n",
    "customer_feedback2 = input(\"Enter the second customer's feedback: \")\n",
    "customer_name3 = input(\"Enter the third customer's name: \")\n",
    "customer_rating3 = int(input(\"Enter the third customer's rating (1-5): \"))\n",
    "customer_feedback3 = input(\"Enter the third customer's feedback: \")\n",
    "customer_name4 = input(\"Enter the fourth customer's name: \")\n",
    "customer_rating4 = int(input(\"Enter the fourth customer's rating (1-5): \"))\n",
    "customer_feedback4 = input(\"Enter the fourth customer's feedback: \")\n",
    "customer_name5 = input(\"Enter the fifth customer's name: \")\n",
    "customer_rating5 = int(input(\"Enter the fifth customer's rating (1-5): \"))\n",
    "customer_feedback5 = input(\"Enter the fifth customer's feedback: \")"
   ]
  },
  {
   "cell_type": "code",
   "execution_count": 3,
   "metadata": {},
   "outputs": [],
   "source": [
    "with open('customer_feedback.csv', 'w', newline='') as file:\n",
    "    writer = csv.writer(file)\n",
    "    writer.writerow([\"Name\", \"Rating\", \"Feedback\"])\n",
    "    writer.writerow([customer_name1, customer_rating1, customer_feedback1])\n",
    "    writer.writerow([customer_name2, customer_rating2, customer_feedback2])\n",
    "    writer.writerow([customer_name3, customer_rating3, customer_feedback3])\n",
    "    writer.writerow([customer_name4, customer_rating4, customer_feedback4])\n",
    "    writer.writerow([customer_name5, customer_rating5, customer_feedback5])"
   ]
  },
  {
   "cell_type": "code",
   "execution_count": 4,
   "metadata": {},
   "outputs": [
    {
     "name": "stdout",
     "output_type": "stream",
     "text": [
      "     Name  Rating   Feedback\n",
      "0     ade       2       good\n",
      "1     law       5  excellent\n",
      "2    yemi       4       good\n",
      "3  bisola       3       good\n",
      "4  daniel       4       good\n"
     ]
    }
   ],
   "source": [
    "# Reading the data from the csv file\n",
    "df = pd.read_csv('customer_feedback.csv')\n",
    "\n",
    "# Displaying the collected feedback\n",
    "print(df)"
   ]
  },
  {
   "cell_type": "code",
   "execution_count": 5,
   "metadata": {},
   "outputs": [
    {
     "name": "stdout",
     "output_type": "stream",
     "text": [
      "Average Rating: 3.6\n"
     ]
    }
   ],
   "source": [
    "# calculating total and average rating\n",
    "total_ratingd = df['Rating'].sum()\n",
    "average_rating = total_ratingd / len(df)\n",
    "print(f'Average Rating:', average_rating)"
   ]
  },
  {
   "cell_type": "code",
   "execution_count": 11,
   "metadata": {},
   "outputs": [],
   "source": [
    "#Categorizing feedback for the first customer\n",
    "if customer_rating1 >= 4 and \"excellent\" in customer_feedback1.lower():\n",
    "    feedback_category1 = \"Very Positive\"\n",
    "elif customer_rating1>= 4 :\n",
    "    feedback_category1 = \"Postive\"\n",
    "elif customer_rating1 == 3:\n",
    "    feedback_category1 = \"Neutral\"\n",
    "else:\n",
    "    feedback_category1 = \"Negative\"\n",
    "if customer_rating2 >= 4 and \"excellent\" in customer_feedback2.lower():\n",
    "    feedback_category2 = \"Very Positive\"\n",
    "elif customer_rating2>= 4 :\n",
    "    feedback_category2 = \"Postive\"\n",
    "elif customer_rating2 == 3:\n",
    "    feedback_category2 = \"Neutral\"\n",
    "else:\n",
    "    feedback_category2 = \"Negative\"\n",
    "if customer_rating3 >= 4 and \"excellent\" in customer_feedback3.lower():\n",
    "    feedback_category3 = \"Very Positive\"\n",
    "elif customer_rating3>= 4 :\n",
    "    feedback_category3 = \"Postive\"\n",
    "elif customer_rating3 == 3:\n",
    "    feedback_category1 = \"Neutral\"\n",
    "else:\n",
    "    feedback_category3 = \"Negative\"\n",
    "if customer_rating4 >= 4 and \"excellent\" in customer_feedback4.lower():\n",
    "    feedback_category4 = \"Very Positive\"\n",
    "elif customer_rating4 >= 4 :\n",
    "    feedback_category4 = \"Postive\"\n",
    "elif customer_rating4 == 3:\n",
    "    feedback_category4 = \"Neutral\"\n",
    "else:\n",
    "    feedback_category4 = \"Negative\"\n",
    "if customer_rating5 >= 4 and \"excellent\" in customer_feedback5.lower():\n",
    "    feedback_category5 = \"Very Positive\"\n",
    "elif customer_rating5 >= 4 :\n",
    "    feedback_category5 = \"Postive\"\n",
    "elif customer_rating5 == 3:\n",
    "    feedback_category5 = \"Neutral\"\n",
    "else:\n",
    "    feedback_category5 = \"Negative\""
   ]
  },
  {
   "cell_type": "code",
   "execution_count": 12,
   "metadata": {},
   "outputs": [
    {
     "name": "stdout",
     "output_type": "stream",
     "text": [
      "Feedback Categories: ['Negative', 'Very Positive', 'Postive', 'Neutral', 'Postive']\n"
     ]
    }
   ],
   "source": [
    "feedback_categories = [feedback_category1, feedback_category2, feedback_category3, feedback_category4, feedback_category5]\n",
    "print(f\"Feedback Categories:\", feedback_categories)"
   ]
  },
  {
   "cell_type": "code",
   "execution_count": null,
   "metadata": {},
   "outputs": [],
   "source": [
    "# Analyse the feedback comments\n",
    "feedback_word1 = customer_feedback1.lower().split()\n",
    "feedback_word2 = customer_feedback2.lower().split()\n",
    "feedback_word3 = customer_feedback3.lower().split()\n",
    "feedback_word4 = customer_feedback4.lower().split()\n",
    "feedback_word5 = customer_feedback5.lower().split()\n",
    "\n",
    "# Counting occurences of a specific word\n",
    "word_to_count =\"service\"\n",
    "word_count1 = feedback_word1.count(word_to_count)\n",
    "word_count2 = feedback_word2.count(word_to_count)\n",
    "word_count3 = feedback_word3.count(word_to_count)\n",
    "word_count4 = feedback_word4.count(word_to_count)\n",
    "word_count5 = feedback_word5.count(word_to_count)\n",
    "\n",
    "print(f\"count of '{word_to_count}' in first feedback:\", word_count1)\n",
    "print(f\"count of '{word_to_count}' in second feedback:\", word_count2)\n",
    "print(f\"count of '{word_to_count}' in third feedback:\", word_count3)\n",
    "print(f\"count of '{word_to_count}' in fourth feedback:\", word_count4)\n",
    "print(f\"count of '{word_to_count}' in fifth feedback:\", word_count5)"
   ]
  }
 ],
 "metadata": {
  "kernelspec": {
   "display_name": "Python 3",
   "language": "python",
   "name": "python3"
  },
  "language_info": {
   "codemirror_mode": {
    "name": "ipython",
    "version": 3
   },
   "file_extension": ".py",
   "mimetype": "text/x-python",
   "name": "python",
   "nbconvert_exporter": "python",
   "pygments_lexer": "ipython3",
   "version": "3.12.4"
  }
 },
 "nbformat": 4,
 "nbformat_minor": 2
}
